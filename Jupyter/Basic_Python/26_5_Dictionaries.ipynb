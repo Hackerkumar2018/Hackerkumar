{
 "cells": [
  {
   "cell_type": "code",
   "execution_count": 4,
   "metadata": {},
   "outputs": [
    {
     "data": {
      "text/plain": [
       "'fat'"
      ]
     },
     "execution_count": 4,
     "metadata": {},
     "output_type": "execute_result"
    }
   ],
   "source": [
    "myCat = {'size':'fat','colour':'gray','dispostion':'loud'}\n",
    "\n",
    "myCat['size']"
   ]
  },
  {
   "cell_type": "code",
   "execution_count": 8,
   "metadata": {},
   "outputs": [
    {
     "data": {
      "text/plain": [
       "False"
      ]
     },
     "execution_count": 8,
     "metadata": {},
     "output_type": "execute_result"
    }
   ],
   "source": [
    "spam =['cat','dog','rat']\n",
    "spam2 =['dog','rat','cat']\n",
    "spam == spam2"
   ]
  },
  {
   "cell_type": "code",
   "execution_count": 10,
   "metadata": {},
   "outputs": [
    {
     "name": "stdout",
     "output_type": "stream",
     "text": [
      "sachin\n",
      "M\n",
      "29\n"
     ]
    }
   ],
   "source": [
    "spam = {'name':'sachin','gender':'M','age':'29'}\n",
    "\n",
    "for v in spam.values():\n",
    "    print(v)"
   ]
  },
  {
   "cell_type": "code",
   "execution_count": 11,
   "metadata": {},
   "outputs": [
    {
     "name": "stdout",
     "output_type": "stream",
     "text": [
      "name\n",
      "gender\n",
      "age\n"
     ]
    }
   ],
   "source": [
    "for k in spam.keys():\n",
    "    print(k)"
   ]
  },
  {
   "cell_type": "code",
   "execution_count": 12,
   "metadata": {},
   "outputs": [
    {
     "name": "stdout",
     "output_type": "stream",
     "text": [
      "('name', 'sachin')\n",
      "('gender', 'M')\n",
      "('age', '29')\n"
     ]
    }
   ],
   "source": [
    "for i in spam.items():\n",
    "    print(i)"
   ]
  },
  {
   "cell_type": "code",
   "execution_count": null,
   "metadata": {},
   "outputs": [
    {
     "name": "stdout",
     "output_type": "stream",
     "text": [
      "Enter the name : \n",
      "bunty\n",
      " I do not have birthday info for bunty\n",
      "what is their birthday\n",
      "sachin\n",
      "Birthday database is updated\n",
      "Enter the name : \n",
      "56\n",
      " I do not have birthday info for 56\n",
      "what is their birthday\n",
      "rahul\n",
      "Birthday database is updated\n",
      "Enter the name : \n",
      "vivek\n",
      "april 21 is the birthday of vivek\n",
      "Enter the name : \n"
     ]
    }
   ],
   "source": [
    "birthdays = {'rahul':'jan 11','vivek':'april 21','sachin':'aug 1'}\n",
    "\n",
    "while True:\n",
    "    print(\"Enter the name : \")\n",
    "    name = input()\n",
    "    if name =='':\n",
    "        break\n",
    "      \n",
    "    if name in birthdays:\n",
    "        print(birthdays[name]+' is the birthday of '+name)\n",
    "        \n",
    "    else:\n",
    "        print(' I do not have birthday info for '+ name)\n",
    "        \n",
    "        print('what is their birthday')\n",
    "        bday = input()\n",
    "        birthdays[name] = bday\n",
    "        print('Birthday database is updated')"
   ]
  }
 ],
 "metadata": {
  "kernelspec": {
   "display_name": "Python 3",
   "language": "python",
   "name": "python3"
  },
  "language_info": {
   "codemirror_mode": {
    "name": "ipython",
    "version": 3
   },
   "file_extension": ".py",
   "mimetype": "text/x-python",
   "name": "python",
   "nbconvert_exporter": "python",
   "pygments_lexer": "ipython3",
   "version": "3.7.1"
  }
 },
 "nbformat": 4,
 "nbformat_minor": 2
}
