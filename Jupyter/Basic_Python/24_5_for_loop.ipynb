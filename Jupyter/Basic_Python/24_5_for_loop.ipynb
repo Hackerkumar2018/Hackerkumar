{
 "cells": [
  {
   "cell_type": "code",
   "execution_count": 1,
   "metadata": {},
   "outputs": [
    {
     "name": "stdout",
     "output_type": "stream",
     "text": [
      "i is now {} 1\n",
      "i is now {} 2\n",
      "i is now {} 3\n",
      "i is now {} 4\n",
      "i is now {} 5\n",
      "i is now {} 6\n",
      "i is now {} 7\n",
      "i is now {} 8\n",
      "i is now {} 9\n",
      "i is now {} 10\n",
      "i is now {} 11\n",
      "i is now {} 12\n",
      "i is now {} 13\n",
      "i is now {} 14\n",
      "i is now {} 15\n",
      "i is now {} 16\n",
      "i is now {} 17\n",
      "i is now {} 18\n",
      "i is now {} 19\n"
     ]
    }
   ],
   "source": [
    "for i in range(1,20):\n",
    "    print('i is now {}',format(i))"
   ]
  },
  {
   "cell_type": "code",
   "execution_count": 6,
   "metadata": {
    "scrolled": true
   },
   "outputs": [
    {
     "name": "stdout",
     "output_type": "stream",
     "text": [
      "i is now 0\n",
      "i is now 2\n",
      "i is now 4\n",
      "i is now 6\n",
      "i is now 8\n",
      "i is now 10\n",
      "i is now 12\n",
      "i is now 14\n",
      "i is now 16\n",
      "i is now 18\n"
     ]
    }
   ],
   "source": [
    "for i in range(0,20,2):\n",
    "    print('i is now',format(i))"
   ]
  },
  {
   "cell_type": "code",
   "execution_count": 8,
   "metadata": {},
   "outputs": [
    {
     "name": "stdout",
     "output_type": "stream",
     "text": [
      "i is now 20\n",
      "i is now 18\n",
      "i is now 16\n",
      "i is now 14\n",
      "i is now 12\n",
      "i is now 10\n",
      "i is now 8\n",
      "i is now 6\n",
      "i is now 4\n",
      "i is now 2\n"
     ]
    }
   ],
   "source": [
    " for i in range(20,1,-2):\n",
    "        print('i is now',format(i))"
   ]
  },
  {
   "cell_type": "code",
   "execution_count": 9,
   "metadata": {},
   "outputs": [
    {
     "name": "stdout",
     "output_type": "stream",
     "text": [
      "9\n",
      ",\n",
      "2\n",
      "2\n",
      "3\n",
      ",\n",
      "0\n",
      "3\n",
      "6\n",
      ",\n",
      "7\n",
      "7\n",
      "5\n",
      ",\n",
      "0\n",
      "0\n",
      "7\n"
     ]
    }
   ],
   "source": [
    "number = '9,223,036,775,007'\n",
    "\n",
    "for i in range(0,len(number)):\n",
    "    print(number[i])"
   ]
  },
  {
   "cell_type": "code",
   "execution_count": 10,
   "metadata": {},
   "outputs": [
    {
     "name": "stdout",
     "output_type": "stream",
     "text": [
      "9223775889"
     ]
    }
   ],
   "source": [
    "number = '9,223,775,889'\n",
    "\n",
    "for i in range(0,len(number)):\n",
    "    if number[i] in '0123456789':\n",
    "        print(number[i],end='')\n",
    "    "
   ]
  },
  {
   "cell_type": "code",
   "execution_count": 11,
   "metadata": {},
   "outputs": [
    {
     "name": "stdout",
     "output_type": "stream",
     "text": [
      "<class 'int'>\n",
      "the number is 9223775889\n"
     ]
    }
   ],
   "source": [
    "number = '9,223,775,889'\n",
    "cleannumber =''\n",
    "\n",
    "for i in range(0,len(number)):\n",
    "    if number[i] in '0123456789':\n",
    "        cleannumber = cleannumber + number[i]\n",
    "        \n",
    "newnumber = int(cleannumber)\n",
    "print(type(newnumber))\n",
    "print(\"the number is {}\".format(newnumber))"
   ]
  },
  {
   "cell_type": "code",
   "execution_count": null,
   "metadata": {},
   "outputs": [],
   "source": []
  }
 ],
 "metadata": {
  "kernelspec": {
   "display_name": "Python 3",
   "language": "python",
   "name": "python3"
  },
  "language_info": {
   "codemirror_mode": {
    "name": "ipython",
    "version": 3
   },
   "file_extension": ".py",
   "mimetype": "text/x-python",
   "name": "python",
   "nbconvert_exporter": "python",
   "pygments_lexer": "ipython3",
   "version": "3.7.1"
  }
 },
 "nbformat": 4,
 "nbformat_minor": 2
}
