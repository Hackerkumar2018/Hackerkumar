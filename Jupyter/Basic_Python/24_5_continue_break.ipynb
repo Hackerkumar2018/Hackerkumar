{
 "cells": [
  {
   "cell_type": "code",
   "execution_count": 1,
   "metadata": {},
   "outputs": [
    {
     "name": "stdout",
     "output_type": "stream",
     "text": [
      "please enter your name : \n",
      "bunty\n",
      "please enter your name : \n",
      "sachin\n",
      "Thank you sachin\n"
     ]
    }
   ],
   "source": [
    "name = 'sachin'\n",
    "\n",
    "while True:\n",
    "    print(\"please enter your name : \")\n",
    "    name1 = input()\n",
    "    if name1 == name:\n",
    "        break\n",
    "print(\"Thank you\",name)"
   ]
  },
  {
   "cell_type": "code",
   "execution_count": 2,
   "metadata": {},
   "outputs": [
    {
     "name": "stdout",
     "output_type": "stream",
     "text": [
      "who are you\n",
      "bunty\n",
      "who are you\n",
      "sachin\n",
      "hello,sachin, what is your password'it is fish'\n",
      "rohu\n",
      "who are you\n",
      "sachin\n",
      "hello,sachin, what is your password'it is fish'\n",
      "swordfish\n",
      "congrats!!!\n"
     ]
    }
   ],
   "source": [
    "while True:\n",
    "    print(\"who are you\")\n",
    "    name = input()\n",
    "    \n",
    "    if name != 'sachin':\n",
    "        continue\n",
    "        \n",
    "    print(\"hello,sachin, what is your password'it is fish'\")\n",
    "    password = input()\n",
    "    if password == 'swordfish':\n",
    "        break\n",
    "print(\"congrats!!!\")"
   ]
  }
 ],
 "metadata": {
  "kernelspec": {
   "display_name": "Python 3",
   "language": "python",
   "name": "python3"
  },
  "language_info": {
   "codemirror_mode": {
    "name": "ipython",
    "version": 3
   },
   "file_extension": ".py",
   "mimetype": "text/x-python",
   "name": "python",
   "nbconvert_exporter": "python",
   "pygments_lexer": "ipython3",
   "version": "3.7.1"
  }
 },
 "nbformat": 4,
 "nbformat_minor": 2
}
