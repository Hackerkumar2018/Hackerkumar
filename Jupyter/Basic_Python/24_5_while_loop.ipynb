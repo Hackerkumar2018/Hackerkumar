{
 "cells": [
  {
   "cell_type": "code",
   "execution_count": null,
   "metadata": {},
   "outputs": [],
   "source": [
    "var1 = 0\n",
    "\n",
    "while var1<=10:\n",
    "    print(\"value of var1 is\",var1)\n",
    "    var1 += 1"
   ]
  },
  {
   "cell_type": "code",
   "execution_count": null,
   "metadata": {
    "scrolled": true
   },
   "outputs": [],
   "source": [
    "avaiable_exits = [\"east\",\"north east\",\"south\"]\n",
    "\n",
    "choosen_exit =\"\"\n",
    "\n",
    "while choosen_exit not in avaiable_exits:\n",
    "    choosen_exit = input(\"please enter the direction : \")\n",
    "    \n",
    "print(\"are you not glad that you are out of this loop\")"
   ]
  },
  {
   "cell_type": "code",
   "execution_count": 1,
   "metadata": {},
   "outputs": [
    {
     "name": "stdout",
     "output_type": "stream",
     "text": [
      "please enter the direction : west\n",
      "please enter the direction : south\n",
      "are you not glad that you are out of this loop\n"
     ]
    }
   ],
   "source": [
    "avaiable_exits = [\"east\",\"north east\",\"south\"]\n",
    "\n",
    "choosen_exit =\"\"\n",
    "\n",
    "while choosen_exit not in avaiable_exits:\n",
    "    choosen_exit = input(\"please enter the direction : \")\n",
    "    if choosen_exit == \"quit\":\n",
    "        print(\"your game over\")\n",
    "        break\n",
    "        \n",
    "else:\n",
    "    print(\"are you not glad that you are out of this loop\")"
   ]
  }
 ],
 "metadata": {
  "kernelspec": {
   "display_name": "Python 3",
   "language": "python",
   "name": "python3"
  },
  "language_info": {
   "codemirror_mode": {
    "name": "ipython",
    "version": 3
   },
   "file_extension": ".py",
   "mimetype": "text/x-python",
   "name": "python",
   "nbconvert_exporter": "python",
   "pygments_lexer": "ipython3",
   "version": "3.7.1"
  }
 },
 "nbformat": 4,
 "nbformat_minor": 2
}
