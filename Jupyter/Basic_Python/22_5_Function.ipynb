{
 "cells": [
  {
   "cell_type": "markdown",
   "metadata": {},
   "source": [
    "# Function"
   ]
  },
  {
   "cell_type": "code",
   "execution_count": 2,
   "metadata": {},
   "outputs": [
    {
     "name": "stdout",
     "output_type": "stream",
     "text": [
      "call, the function\n"
     ]
    }
   ],
   "source": [
    "def function():\n",
    "    print(\"call, the function\")\n",
    "    \n",
    "function()"
   ]
  },
  {
   "cell_type": "code",
   "execution_count": 7,
   "metadata": {},
   "outputs": [
    {
     "name": "stdout",
     "output_type": "stream",
     "text": [
      "enter the variable 1 : 12\n",
      "enter the variable 2 : 10\n",
      "sum =  22\n"
     ]
    }
   ],
   "source": [
    "#1. no arug no return type\n",
    "def add():\n",
    "    var1 = int(input(\"enter the variable 1 : \"))\n",
    "    var2 = int(input(\"enter the variable 2 : \"))\n",
    "    \n",
    "    var3 = var1 + var2\n",
    "    \n",
    "    print(\"sum = \",var3)\n",
    "    \n",
    "add()"
   ]
  },
  {
   "cell_type": "code",
   "execution_count": 9,
   "metadata": {},
   "outputs": [
    {
     "name": "stdout",
     "output_type": "stream",
     "text": [
      "sub =  6\n"
     ]
    }
   ],
   "source": [
    "#with arug no return type\n",
    "def sub(var1,var2):\n",
    "    var3 = var1 - var2\n",
    "    \n",
    "    print(\"sub = \",var3)\n",
    "    \n",
    "sub(12,6)\n",
    "    "
   ]
  },
  {
   "cell_type": "code",
   "execution_count": 11,
   "metadata": {},
   "outputs": [
    {
     "name": "stdout",
     "output_type": "stream",
     "text": [
      "enter the num1 : 4\n",
      "enter the num2 : 5\n",
      "multiplication : 20\n"
     ]
    }
   ],
   "source": [
    "#no arug and with return type\n",
    "def multiply():\n",
    "    var1 = int(input(\"enter the num1 : \"))\n",
    "    var2 = int(input(\"enter the num2 : \"))\n",
    "    \n",
    "    var3 = var1 * var2\n",
    "    \n",
    "    return var3\n",
    "\n",
    "var4 = multiply()\n",
    "print(\"multiplication :\",var4)"
   ]
  },
  {
   "cell_type": "code",
   "execution_count": 14,
   "metadata": {},
   "outputs": [
    {
     "name": "stdout",
     "output_type": "stream",
     "text": [
      "division :  10.0\n"
     ]
    }
   ],
   "source": [
    "#with argument and with return type\n",
    "def div(var1,var2):\n",
    "    var3 = var1/var2\n",
    "    \n",
    "    return var3\n",
    "\n",
    "var4 = div(40,4)\n",
    "print(\"division : \",var4)"
   ]
  }
 ],
 "metadata": {
  "kernelspec": {
   "display_name": "Python 3",
   "language": "python",
   "name": "python3"
  },
  "language_info": {
   "codemirror_mode": {
    "name": "ipython",
    "version": 3
   },
   "file_extension": ".py",
   "mimetype": "text/x-python",
   "name": "python",
   "nbconvert_exporter": "python",
   "pygments_lexer": "ipython3",
   "version": "3.7.1"
  }
 },
 "nbformat": 4,
 "nbformat_minor": 2
}
