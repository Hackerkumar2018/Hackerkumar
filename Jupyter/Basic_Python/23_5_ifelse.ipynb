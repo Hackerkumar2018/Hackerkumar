{
 "cells": [
  {
   "cell_type": "code",
   "execution_count": 1,
   "metadata": {},
   "outputs": [
    {
     "name": "stdout",
     "output_type": "stream",
     "text": [
      "please enter your name :sachin\n",
      "what is your age, sachin? 14\n",
      "14\n",
      "after 4 years you will give the vote\n"
     ]
    }
   ],
   "source": [
    "name = input(\"please enter your name :\")\n",
    "age = int(input(\"what is your age, {0}? \".format(name)))\n",
    "\n",
    "print(age)\n",
    "\n",
    "if age >= 18:\n",
    "    print(\"you can give the vote.\")\n",
    "    \n",
    "else:\n",
    "    print(\"after {0} years you will give the vote\".format(18-age))"
   ]
  },
  {
   "cell_type": "code",
   "execution_count": 9,
   "metadata": {},
   "outputs": [
    {
     "name": "stdout",
     "output_type": "stream",
     "text": [
      "Please guess a number bet 1 to 10\n",
      "9\n",
      "please guess lower\n",
      "5\n",
      "correct.\n"
     ]
    }
   ],
   "source": [
    "print(\"Please guess a number bet 1 to 10\")\n",
    "guess = int(input())\n",
    "\n",
    "if guess < 5:\n",
    "    print(\"please guess higher\")\n",
    "    \n",
    "    guess = int(input())\n",
    "    if guess == 5:\n",
    "        print(\"correct.\")\n",
    "    else:\n",
    "        print(\"wrong number\")\n",
    "        \n",
    "elif guess > 5:\n",
    "    print(\"please guess lower\")\n",
    "        \n",
    "    guess = int(input())\n",
    "    if guess == 5:\n",
    "        print(\"correct.\")\n",
    "    else:\n",
    "        print(\"wrong number\")\n",
    "else:\n",
    "    print(\"you got first time\")"
   ]
  }
 ],
 "metadata": {
  "kernelspec": {
   "display_name": "Python 3",
   "language": "python",
   "name": "python3"
  },
  "language_info": {
   "codemirror_mode": {
    "name": "ipython",
    "version": 3
   },
   "file_extension": ".py",
   "mimetype": "text/x-python",
   "name": "python",
   "nbconvert_exporter": "python",
   "pygments_lexer": "ipython3",
   "version": "3.7.1"
  }
 },
 "nbformat": 4,
 "nbformat_minor": 2
}
